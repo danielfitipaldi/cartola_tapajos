{
 "cells": [
  {
   "cell_type": "code",
   "execution_count": 1,
   "id": "bf79f6b7",
   "metadata": {},
   "outputs": [],
   "source": [
    "import pandas as pd\n",
    "import numpy as np\n",
    "import matplotlib.pyplot as plt\n",
    "import seaborn as sns"
   ]
  },
  {
   "cell_type": "code",
   "execution_count": 2,
   "id": "dc2c11ba",
   "metadata": {},
   "outputs": [],
   "source": [
    "# Carregando dataframe\n",
    "# Colocando id como índice\n",
    "cartoladf = pd.read_csv('C:/Users/SONY/PycharmProjects/cartola_tapajos/pontuacao.csv', sep=',', index_col=('id'))\n",
    "cartoladf = cartoladf.sort_values('id')"
   ]
  },
  {
   "cell_type": "code",
   "execution_count": 3,
   "id": "3d3b7e99",
   "metadata": {},
   "outputs": [],
   "source": [
    "# Corrigindo bug da API do cartola, que repete o último resultado na rodada seguinte\n",
    "# Colocando dado como nulo\n",
    "\n",
    "cartoladf.iloc[-1] = np.nan"
   ]
  },
  {
   "cell_type": "code",
   "execution_count": 4,
   "id": "db4250b2",
   "metadata": {},
   "outputs": [
    {
     "data": {
      "text/html": [
       "<div>\n",
       "<style scoped>\n",
       "    .dataframe tbody tr th:only-of-type {\n",
       "        vertical-align: middle;\n",
       "    }\n",
       "\n",
       "    .dataframe tbody tr th {\n",
       "        vertical-align: top;\n",
       "    }\n",
       "\n",
       "    .dataframe thead th {\n",
       "        text-align: right;\n",
       "    }\n",
       "</style>\n",
       "<table border=\"1\" class=\"dataframe\">\n",
       "  <thead>\n",
       "    <tr style=\"text-align: right;\">\n",
       "      <th></th>\n",
       "      <th>big_blue</th>\n",
       "      <th>vermelho_luta</th>\n",
       "      <th>timbu_gold</th>\n",
       "      <th>maranhao_uchoa</th>\n",
       "    </tr>\n",
       "    <tr>\n",
       "      <th>id</th>\n",
       "      <th></th>\n",
       "      <th></th>\n",
       "      <th></th>\n",
       "      <th></th>\n",
       "    </tr>\n",
       "  </thead>\n",
       "  <tbody>\n",
       "    <tr>\n",
       "      <th>1</th>\n",
       "      <td>50.149902</td>\n",
       "      <td>41.250000</td>\n",
       "      <td>55.060059</td>\n",
       "      <td>19.640015</td>\n",
       "    </tr>\n",
       "    <tr>\n",
       "      <th>2</th>\n",
       "      <td>59.649902</td>\n",
       "      <td>60.350098</td>\n",
       "      <td>48.850098</td>\n",
       "      <td>35.679932</td>\n",
       "    </tr>\n",
       "    <tr>\n",
       "      <th>3</th>\n",
       "      <td>66.899902</td>\n",
       "      <td>62.100098</td>\n",
       "      <td>51.959961</td>\n",
       "      <td>75.299805</td>\n",
       "    </tr>\n",
       "    <tr>\n",
       "      <th>4</th>\n",
       "      <td>38.350098</td>\n",
       "      <td>62.040039</td>\n",
       "      <td>37.540039</td>\n",
       "      <td>39.419922</td>\n",
       "    </tr>\n",
       "    <tr>\n",
       "      <th>5</th>\n",
       "      <td>34.389893</td>\n",
       "      <td>52.590088</td>\n",
       "      <td>49.439941</td>\n",
       "      <td>41.189941</td>\n",
       "    </tr>\n",
       "    <tr>\n",
       "      <th>6</th>\n",
       "      <td>57.729980</td>\n",
       "      <td>72.379883</td>\n",
       "      <td>89.540039</td>\n",
       "      <td>46.570068</td>\n",
       "    </tr>\n",
       "    <tr>\n",
       "      <th>7</th>\n",
       "      <td>56.790039</td>\n",
       "      <td>48.780029</td>\n",
       "      <td>57.750000</td>\n",
       "      <td>40.659912</td>\n",
       "    </tr>\n",
       "    <tr>\n",
       "      <th>8</th>\n",
       "      <td>67.000000</td>\n",
       "      <td>93.810059</td>\n",
       "      <td>65.109863</td>\n",
       "      <td>62.399902</td>\n",
       "    </tr>\n",
       "    <tr>\n",
       "      <th>9</th>\n",
       "      <td>54.620117</td>\n",
       "      <td>57.320068</td>\n",
       "      <td>71.609863</td>\n",
       "      <td>54.540039</td>\n",
       "    </tr>\n",
       "    <tr>\n",
       "      <th>10</th>\n",
       "      <td>48.020020</td>\n",
       "      <td>51.419922</td>\n",
       "      <td>39.649902</td>\n",
       "      <td>65.620117</td>\n",
       "    </tr>\n",
       "    <tr>\n",
       "      <th>11</th>\n",
       "      <td>72.549805</td>\n",
       "      <td>68.529785</td>\n",
       "      <td>69.830078</td>\n",
       "      <td>62.750000</td>\n",
       "    </tr>\n",
       "    <tr>\n",
       "      <th>12</th>\n",
       "      <td>53.649902</td>\n",
       "      <td>52.290039</td>\n",
       "      <td>93.589844</td>\n",
       "      <td>77.529785</td>\n",
       "    </tr>\n",
       "    <tr>\n",
       "      <th>13</th>\n",
       "      <td>33.199951</td>\n",
       "      <td>80.109863</td>\n",
       "      <td>92.950195</td>\n",
       "      <td>78.979980</td>\n",
       "    </tr>\n",
       "    <tr>\n",
       "      <th>14</th>\n",
       "      <td>59.830078</td>\n",
       "      <td>63.070068</td>\n",
       "      <td>54.360107</td>\n",
       "      <td>50.300049</td>\n",
       "    </tr>\n",
       "    <tr>\n",
       "      <th>15</th>\n",
       "      <td>46.020020</td>\n",
       "      <td>13.010010</td>\n",
       "      <td>26.609985</td>\n",
       "      <td>31.589966</td>\n",
       "    </tr>\n",
       "    <tr>\n",
       "      <th>16</th>\n",
       "      <td>61.219971</td>\n",
       "      <td>51.949951</td>\n",
       "      <td>65.549805</td>\n",
       "      <td>81.259766</td>\n",
       "    </tr>\n",
       "    <tr>\n",
       "      <th>17</th>\n",
       "      <td>56.899902</td>\n",
       "      <td>39.750000</td>\n",
       "      <td>38.750000</td>\n",
       "      <td>45.790039</td>\n",
       "    </tr>\n",
       "    <tr>\n",
       "      <th>18</th>\n",
       "      <td>70.870117</td>\n",
       "      <td>107.229980</td>\n",
       "      <td>96.040039</td>\n",
       "      <td>56.360107</td>\n",
       "    </tr>\n",
       "    <tr>\n",
       "      <th>19</th>\n",
       "      <td>36.360107</td>\n",
       "      <td>41.500000</td>\n",
       "      <td>61.399902</td>\n",
       "      <td>11.599976</td>\n",
       "    </tr>\n",
       "    <tr>\n",
       "      <th>20</th>\n",
       "      <td>45.179932</td>\n",
       "      <td>47.000000</td>\n",
       "      <td>40.429932</td>\n",
       "      <td>27.930054</td>\n",
       "    </tr>\n",
       "    <tr>\n",
       "      <th>21</th>\n",
       "      <td>79.049805</td>\n",
       "      <td>89.609863</td>\n",
       "      <td>52.250000</td>\n",
       "      <td>32.090088</td>\n",
       "    </tr>\n",
       "    <tr>\n",
       "      <th>22</th>\n",
       "      <td>48.500000</td>\n",
       "      <td>89.529785</td>\n",
       "      <td>53.600098</td>\n",
       "      <td>71.939941</td>\n",
       "    </tr>\n",
       "    <tr>\n",
       "      <th>23</th>\n",
       "      <td>60.050049</td>\n",
       "      <td>59.919922</td>\n",
       "      <td>55.379883</td>\n",
       "      <td>42.030029</td>\n",
       "    </tr>\n",
       "    <tr>\n",
       "      <th>24</th>\n",
       "      <td>28.939941</td>\n",
       "      <td>32.840088</td>\n",
       "      <td>36.340088</td>\n",
       "      <td>69.279785</td>\n",
       "    </tr>\n",
       "    <tr>\n",
       "      <th>25</th>\n",
       "      <td>72.250000</td>\n",
       "      <td>75.419922</td>\n",
       "      <td>46.820068</td>\n",
       "      <td>25.400024</td>\n",
       "    </tr>\n",
       "    <tr>\n",
       "      <th>26</th>\n",
       "      <td>86.000000</td>\n",
       "      <td>80.879883</td>\n",
       "      <td>98.279785</td>\n",
       "      <td>71.979980</td>\n",
       "    </tr>\n",
       "    <tr>\n",
       "      <th>27</th>\n",
       "      <td>47.209961</td>\n",
       "      <td>46.409912</td>\n",
       "      <td>59.709961</td>\n",
       "      <td>10.770020</td>\n",
       "    </tr>\n",
       "  </tbody>\n",
       "</table>\n",
       "</div>"
      ],
      "text/plain": [
       "     big_blue  vermelho_luta  timbu_gold  maranhao_uchoa\n",
       "id                                                      \n",
       "1   50.149902      41.250000   55.060059       19.640015\n",
       "2   59.649902      60.350098   48.850098       35.679932\n",
       "3   66.899902      62.100098   51.959961       75.299805\n",
       "4   38.350098      62.040039   37.540039       39.419922\n",
       "5   34.389893      52.590088   49.439941       41.189941\n",
       "6   57.729980      72.379883   89.540039       46.570068\n",
       "7   56.790039      48.780029   57.750000       40.659912\n",
       "8   67.000000      93.810059   65.109863       62.399902\n",
       "9   54.620117      57.320068   71.609863       54.540039\n",
       "10  48.020020      51.419922   39.649902       65.620117\n",
       "11  72.549805      68.529785   69.830078       62.750000\n",
       "12  53.649902      52.290039   93.589844       77.529785\n",
       "13  33.199951      80.109863   92.950195       78.979980\n",
       "14  59.830078      63.070068   54.360107       50.300049\n",
       "15  46.020020      13.010010   26.609985       31.589966\n",
       "16  61.219971      51.949951   65.549805       81.259766\n",
       "17  56.899902      39.750000   38.750000       45.790039\n",
       "18  70.870117     107.229980   96.040039       56.360107\n",
       "19  36.360107      41.500000   61.399902       11.599976\n",
       "20  45.179932      47.000000   40.429932       27.930054\n",
       "21  79.049805      89.609863   52.250000       32.090088\n",
       "22  48.500000      89.529785   53.600098       71.939941\n",
       "23  60.050049      59.919922   55.379883       42.030029\n",
       "24  28.939941      32.840088   36.340088       69.279785\n",
       "25  72.250000      75.419922   46.820068       25.400024\n",
       "26  86.000000      80.879883   98.279785       71.979980\n",
       "27  47.209961      46.409912   59.709961       10.770020"
      ]
     },
     "execution_count": 4,
     "metadata": {},
     "output_type": "execute_result"
    }
   ],
   "source": [
    "# Apagando os dados nulos\n",
    "cartoladf = cartoladf.dropna()\n",
    "cartoladf"
   ]
  },
  {
   "cell_type": "markdown",
   "id": "1a1ff82b",
   "metadata": {},
   "source": [
    "# Estatísticas"
   ]
  },
  {
   "cell_type": "markdown",
   "id": "41765c5e",
   "metadata": {},
   "source": [
    "## Verdes"
   ]
  },
  {
   "cell_type": "markdown",
   "id": "18ea6be9",
   "metadata": {},
   "source": [
    "**O verde é conquistado pelo vencedor da rodada**"
   ]
  },
  {
   "cell_type": "code",
   "execution_count": 5,
   "id": "f0d8f53e",
   "metadata": {},
   "outputs": [
    {
     "data": {
      "text/html": [
       "<div>\n",
       "<style scoped>\n",
       "    .dataframe tbody tr th:only-of-type {\n",
       "        vertical-align: middle;\n",
       "    }\n",
       "\n",
       "    .dataframe tbody tr th {\n",
       "        vertical-align: top;\n",
       "    }\n",
       "\n",
       "    .dataframe thead th {\n",
       "        text-align: right;\n",
       "    }\n",
       "</style>\n",
       "<table border=\"1\" class=\"dataframe\">\n",
       "  <thead>\n",
       "    <tr style=\"text-align: right;\">\n",
       "      <th></th>\n",
       "      <th>big_blue</th>\n",
       "      <th>vermelho_luta</th>\n",
       "      <th>timbu_gold</th>\n",
       "      <th>maranhao_uchoa</th>\n",
       "    </tr>\n",
       "    <tr>\n",
       "      <th>id</th>\n",
       "      <th></th>\n",
       "      <th></th>\n",
       "      <th></th>\n",
       "      <th></th>\n",
       "    </tr>\n",
       "  </thead>\n",
       "  <tbody>\n",
       "    <tr>\n",
       "      <th>1</th>\n",
       "      <td>0</td>\n",
       "      <td>0</td>\n",
       "      <td>1</td>\n",
       "      <td>0</td>\n",
       "    </tr>\n",
       "    <tr>\n",
       "      <th>2</th>\n",
       "      <td>0</td>\n",
       "      <td>1</td>\n",
       "      <td>0</td>\n",
       "      <td>0</td>\n",
       "    </tr>\n",
       "    <tr>\n",
       "      <th>3</th>\n",
       "      <td>0</td>\n",
       "      <td>0</td>\n",
       "      <td>0</td>\n",
       "      <td>1</td>\n",
       "    </tr>\n",
       "    <tr>\n",
       "      <th>4</th>\n",
       "      <td>0</td>\n",
       "      <td>1</td>\n",
       "      <td>0</td>\n",
       "      <td>0</td>\n",
       "    </tr>\n",
       "    <tr>\n",
       "      <th>5</th>\n",
       "      <td>0</td>\n",
       "      <td>1</td>\n",
       "      <td>0</td>\n",
       "      <td>0</td>\n",
       "    </tr>\n",
       "    <tr>\n",
       "      <th>6</th>\n",
       "      <td>0</td>\n",
       "      <td>0</td>\n",
       "      <td>1</td>\n",
       "      <td>0</td>\n",
       "    </tr>\n",
       "    <tr>\n",
       "      <th>7</th>\n",
       "      <td>0</td>\n",
       "      <td>0</td>\n",
       "      <td>1</td>\n",
       "      <td>0</td>\n",
       "    </tr>\n",
       "    <tr>\n",
       "      <th>8</th>\n",
       "      <td>0</td>\n",
       "      <td>1</td>\n",
       "      <td>0</td>\n",
       "      <td>0</td>\n",
       "    </tr>\n",
       "    <tr>\n",
       "      <th>9</th>\n",
       "      <td>0</td>\n",
       "      <td>0</td>\n",
       "      <td>1</td>\n",
       "      <td>0</td>\n",
       "    </tr>\n",
       "    <tr>\n",
       "      <th>10</th>\n",
       "      <td>0</td>\n",
       "      <td>0</td>\n",
       "      <td>0</td>\n",
       "      <td>1</td>\n",
       "    </tr>\n",
       "    <tr>\n",
       "      <th>11</th>\n",
       "      <td>1</td>\n",
       "      <td>0</td>\n",
       "      <td>0</td>\n",
       "      <td>0</td>\n",
       "    </tr>\n",
       "    <tr>\n",
       "      <th>12</th>\n",
       "      <td>0</td>\n",
       "      <td>0</td>\n",
       "      <td>1</td>\n",
       "      <td>0</td>\n",
       "    </tr>\n",
       "    <tr>\n",
       "      <th>13</th>\n",
       "      <td>0</td>\n",
       "      <td>0</td>\n",
       "      <td>1</td>\n",
       "      <td>0</td>\n",
       "    </tr>\n",
       "    <tr>\n",
       "      <th>14</th>\n",
       "      <td>0</td>\n",
       "      <td>1</td>\n",
       "      <td>0</td>\n",
       "      <td>0</td>\n",
       "    </tr>\n",
       "    <tr>\n",
       "      <th>15</th>\n",
       "      <td>1</td>\n",
       "      <td>0</td>\n",
       "      <td>0</td>\n",
       "      <td>0</td>\n",
       "    </tr>\n",
       "    <tr>\n",
       "      <th>16</th>\n",
       "      <td>0</td>\n",
       "      <td>0</td>\n",
       "      <td>0</td>\n",
       "      <td>1</td>\n",
       "    </tr>\n",
       "    <tr>\n",
       "      <th>17</th>\n",
       "      <td>1</td>\n",
       "      <td>0</td>\n",
       "      <td>0</td>\n",
       "      <td>0</td>\n",
       "    </tr>\n",
       "    <tr>\n",
       "      <th>18</th>\n",
       "      <td>0</td>\n",
       "      <td>1</td>\n",
       "      <td>0</td>\n",
       "      <td>0</td>\n",
       "    </tr>\n",
       "    <tr>\n",
       "      <th>19</th>\n",
       "      <td>0</td>\n",
       "      <td>0</td>\n",
       "      <td>1</td>\n",
       "      <td>0</td>\n",
       "    </tr>\n",
       "    <tr>\n",
       "      <th>20</th>\n",
       "      <td>0</td>\n",
       "      <td>1</td>\n",
       "      <td>0</td>\n",
       "      <td>0</td>\n",
       "    </tr>\n",
       "    <tr>\n",
       "      <th>21</th>\n",
       "      <td>0</td>\n",
       "      <td>1</td>\n",
       "      <td>0</td>\n",
       "      <td>0</td>\n",
       "    </tr>\n",
       "    <tr>\n",
       "      <th>22</th>\n",
       "      <td>0</td>\n",
       "      <td>1</td>\n",
       "      <td>0</td>\n",
       "      <td>0</td>\n",
       "    </tr>\n",
       "    <tr>\n",
       "      <th>23</th>\n",
       "      <td>1</td>\n",
       "      <td>0</td>\n",
       "      <td>0</td>\n",
       "      <td>0</td>\n",
       "    </tr>\n",
       "    <tr>\n",
       "      <th>24</th>\n",
       "      <td>0</td>\n",
       "      <td>0</td>\n",
       "      <td>0</td>\n",
       "      <td>1</td>\n",
       "    </tr>\n",
       "    <tr>\n",
       "      <th>25</th>\n",
       "      <td>0</td>\n",
       "      <td>1</td>\n",
       "      <td>0</td>\n",
       "      <td>0</td>\n",
       "    </tr>\n",
       "    <tr>\n",
       "      <th>26</th>\n",
       "      <td>0</td>\n",
       "      <td>0</td>\n",
       "      <td>1</td>\n",
       "      <td>0</td>\n",
       "    </tr>\n",
       "    <tr>\n",
       "      <th>27</th>\n",
       "      <td>0</td>\n",
       "      <td>0</td>\n",
       "      <td>1</td>\n",
       "      <td>0</td>\n",
       "    </tr>\n",
       "  </tbody>\n",
       "</table>\n",
       "</div>"
      ],
      "text/plain": [
       "    big_blue  vermelho_luta  timbu_gold  maranhao_uchoa\n",
       "id                                                     \n",
       "1          0              0           1               0\n",
       "2          0              1           0               0\n",
       "3          0              0           0               1\n",
       "4          0              1           0               0\n",
       "5          0              1           0               0\n",
       "6          0              0           1               0\n",
       "7          0              0           1               0\n",
       "8          0              1           0               0\n",
       "9          0              0           1               0\n",
       "10         0              0           0               1\n",
       "11         1              0           0               0\n",
       "12         0              0           1               0\n",
       "13         0              0           1               0\n",
       "14         0              1           0               0\n",
       "15         1              0           0               0\n",
       "16         0              0           0               1\n",
       "17         1              0           0               0\n",
       "18         0              1           0               0\n",
       "19         0              0           1               0\n",
       "20         0              1           0               0\n",
       "21         0              1           0               0\n",
       "22         0              1           0               0\n",
       "23         1              0           0               0\n",
       "24         0              0           0               1\n",
       "25         0              1           0               0\n",
       "26         0              0           1               0\n",
       "27         0              0           1               0"
      ]
     },
     "execution_count": 5,
     "metadata": {},
     "output_type": "execute_result"
    }
   ],
   "source": [
    "# Verificando se o valor de cada linha é o maior com valores binários\n",
    "verdesdf = cartoladf.eq(cartoladf.max(axis=1),axis=0).astype(int)\n",
    "verdesdf"
   ]
  },
  {
   "cell_type": "code",
   "execution_count": 6,
   "id": "497c4c67",
   "metadata": {},
   "outputs": [],
   "source": [
    "# Somando os valores de cada coluna\n",
    "verdes = verdesdf.sum()"
   ]
  },
  {
   "cell_type": "code",
   "execution_count": 7,
   "id": "7b78b75c",
   "metadata": {},
   "outputs": [
    {
     "data": {
      "text/plain": [
       "[Text(0, 0, '4'), Text(0, 0, '10'), Text(0, 0, '9'), Text(0, 0, '4')]"
      ]
     },
     "execution_count": 7,
     "metadata": {},
     "output_type": "execute_result"
    },
    {
     "data": {
      "image/png": "[encoded data removed]",
      "text/plain": [
       "<Figure size 432x576 with 1 Axes>"
      ]
     },
     "metadata": {
      "needs_background": "light"
     },
     "output_type": "display_data"
    }
   ],
   "source": [
    "plt.figure(figsize=(6,8))\n",
    "splot=sns.barplot(x=verdes.index,y=verdes.values)\n",
    "plt.xlabel(\"Times\", size=12)\n",
    "plt.ylabel(\"Total\", size=12)\n",
    "plt.bar_label(splot.containers[0],size=12)\n"
   ]
  },
  {
   "cell_type": "markdown",
   "id": "bdae76e5",
   "metadata": {},
   "source": [
    "## Vermelhos"
   ]
  },
  {
   "cell_type": "markdown",
   "id": "4273f756",
   "metadata": {},
   "source": [
    "**O jogador obtem o vermelho se tiver o pior desempenho na rodada**"
   ]
  },
  {
   "cell_type": "code",
   "execution_count": 8,
   "id": "070a5c21",
   "metadata": {},
   "outputs": [
    {
     "data": {
      "text/html": [
       "<div>\n",
       "<style scoped>\n",
       "    .dataframe tbody tr th:only-of-type {\n",
       "        vertical-align: middle;\n",
       "    }\n",
       "\n",
       "    .dataframe tbody tr th {\n",
       "        vertical-align: top;\n",
       "    }\n",
       "\n",
       "    .dataframe thead th {\n",
       "        text-align: right;\n",
       "    }\n",
       "</style>\n",
       "<table border=\"1\" class=\"dataframe\">\n",
       "  <thead>\n",
       "    <tr style=\"text-align: right;\">\n",
       "      <th></th>\n",
       "      <th>big_blue</th>\n",
       "      <th>vermelho_luta</th>\n",
       "      <th>timbu_gold</th>\n",
       "      <th>maranhao_uchoa</th>\n",
       "    </tr>\n",
       "    <tr>\n",
       "      <th>id</th>\n",
       "      <th></th>\n",
       "      <th></th>\n",
       "      <th></th>\n",
       "      <th></th>\n",
       "    </tr>\n",
       "  </thead>\n",
       "  <tbody>\n",
       "    <tr>\n",
       "      <th>1</th>\n",
       "      <td>0</td>\n",
       "      <td>0</td>\n",
       "      <td>0</td>\n",
       "      <td>1</td>\n",
       "    </tr>\n",
       "    <tr>\n",
       "      <th>2</th>\n",
       "      <td>0</td>\n",
       "      <td>0</td>\n",
       "      <td>0</td>\n",
       "      <td>1</td>\n",
       "    </tr>\n",
       "    <tr>\n",
       "      <th>3</th>\n",
       "      <td>0</td>\n",
       "      <td>0</td>\n",
       "      <td>1</td>\n",
       "      <td>0</td>\n",
       "    </tr>\n",
       "    <tr>\n",
       "      <th>4</th>\n",
       "      <td>0</td>\n",
       "      <td>0</td>\n",
       "      <td>1</td>\n",
       "      <td>0</td>\n",
       "    </tr>\n",
       "    <tr>\n",
       "      <th>5</th>\n",
       "      <td>1</td>\n",
       "      <td>0</td>\n",
       "      <td>0</td>\n",
       "      <td>0</td>\n",
       "    </tr>\n",
       "    <tr>\n",
       "      <th>6</th>\n",
       "      <td>0</td>\n",
       "      <td>0</td>\n",
       "      <td>0</td>\n",
       "      <td>1</td>\n",
       "    </tr>\n",
       "    <tr>\n",
       "      <th>7</th>\n",
       "      <td>0</td>\n",
       "      <td>0</td>\n",
       "      <td>0</td>\n",
       "      <td>1</td>\n",
       "    </tr>\n",
       "    <tr>\n",
       "      <th>8</th>\n",
       "      <td>0</td>\n",
       "      <td>0</td>\n",
       "      <td>0</td>\n",
       "      <td>1</td>\n",
       "    </tr>\n",
       "    <tr>\n",
       "      <th>9</th>\n",
       "      <td>0</td>\n",
       "      <td>0</td>\n",
       "      <td>0</td>\n",
       "      <td>1</td>\n",
       "    </tr>\n",
       "    <tr>\n",
       "      <th>10</th>\n",
       "      <td>0</td>\n",
       "      <td>0</td>\n",
       "      <td>1</td>\n",
       "      <td>0</td>\n",
       "    </tr>\n",
       "    <tr>\n",
       "      <th>11</th>\n",
       "      <td>0</td>\n",
       "      <td>0</td>\n",
       "      <td>0</td>\n",
       "      <td>1</td>\n",
       "    </tr>\n",
       "    <tr>\n",
       "      <th>12</th>\n",
       "      <td>0</td>\n",
       "      <td>1</td>\n",
       "      <td>0</td>\n",
       "      <td>0</td>\n",
       "    </tr>\n",
       "    <tr>\n",
       "      <th>13</th>\n",
       "      <td>1</td>\n",
       "      <td>0</td>\n",
       "      <td>0</td>\n",
       "      <td>0</td>\n",
       "    </tr>\n",
       "    <tr>\n",
       "      <th>14</th>\n",
       "      <td>0</td>\n",
       "      <td>0</td>\n",
       "      <td>0</td>\n",
       "      <td>1</td>\n",
       "    </tr>\n",
       "    <tr>\n",
       "      <th>15</th>\n",
       "      <td>0</td>\n",
       "      <td>1</td>\n",
       "      <td>0</td>\n",
       "      <td>0</td>\n",
       "    </tr>\n",
       "    <tr>\n",
       "      <th>16</th>\n",
       "      <td>0</td>\n",
       "      <td>1</td>\n",
       "      <td>0</td>\n",
       "      <td>0</td>\n",
       "    </tr>\n",
       "    <tr>\n",
       "      <th>17</th>\n",
       "      <td>0</td>\n",
       "      <td>0</td>\n",
       "      <td>1</td>\n",
       "      <td>0</td>\n",
       "    </tr>\n",
       "    <tr>\n",
       "      <th>18</th>\n",
       "      <td>0</td>\n",
       "      <td>0</td>\n",
       "      <td>0</td>\n",
       "      <td>1</td>\n",
       "    </tr>\n",
       "    <tr>\n",
       "      <th>19</th>\n",
       "      <td>0</td>\n",
       "      <td>0</td>\n",
       "      <td>0</td>\n",
       "      <td>1</td>\n",
       "    </tr>\n",
       "    <tr>\n",
       "      <th>20</th>\n",
       "      <td>0</td>\n",
       "      <td>0</td>\n",
       "      <td>0</td>\n",
       "      <td>1</td>\n",
       "    </tr>\n",
       "    <tr>\n",
       "      <th>21</th>\n",
       "      <td>0</td>\n",
       "      <td>0</td>\n",
       "      <td>0</td>\n",
       "      <td>1</td>\n",
       "    </tr>\n",
       "    <tr>\n",
       "      <th>22</th>\n",
       "      <td>1</td>\n",
       "      <td>0</td>\n",
       "      <td>0</td>\n",
       "      <td>0</td>\n",
       "    </tr>\n",
       "    <tr>\n",
       "      <th>23</th>\n",
       "      <td>0</td>\n",
       "      <td>0</td>\n",
       "      <td>0</td>\n",
       "      <td>1</td>\n",
       "    </tr>\n",
       "    <tr>\n",
       "      <th>24</th>\n",
       "      <td>1</td>\n",
       "      <td>0</td>\n",
       "      <td>0</td>\n",
       "      <td>0</td>\n",
       "    </tr>\n",
       "    <tr>\n",
       "      <th>25</th>\n",
       "      <td>0</td>\n",
       "      <td>0</td>\n",
       "      <td>0</td>\n",
       "      <td>1</td>\n",
       "    </tr>\n",
       "    <tr>\n",
       "      <th>26</th>\n",
       "      <td>0</td>\n",
       "      <td>0</td>\n",
       "      <td>0</td>\n",
       "      <td>1</td>\n",
       "    </tr>\n",
       "    <tr>\n",
       "      <th>27</th>\n",
       "      <td>0</td>\n",
       "      <td>0</td>\n",
       "      <td>0</td>\n",
       "      <td>1</td>\n",
       "    </tr>\n",
       "  </tbody>\n",
       "</table>\n",
       "</div>"
      ],
      "text/plain": [
       "    big_blue  vermelho_luta  timbu_gold  maranhao_uchoa\n",
       "id                                                     \n",
       "1          0              0           0               1\n",
       "2          0              0           0               1\n",
       "3          0              0           1               0\n",
       "4          0              0           1               0\n",
       "5          1              0           0               0\n",
       "6          0              0           0               1\n",
       "7          0              0           0               1\n",
       "8          0              0           0               1\n",
       "9          0              0           0               1\n",
       "10         0              0           1               0\n",
       "11         0              0           0               1\n",
       "12         0              1           0               0\n",
       "13         1              0           0               0\n",
       "14         0              0           0               1\n",
       "15         0              1           0               0\n",
       "16         0              1           0               0\n",
       "17         0              0           1               0\n",
       "18         0              0           0               1\n",
       "19         0              0           0               1\n",
       "20         0              0           0               1\n",
       "21         0              0           0               1\n",
       "22         1              0           0               0\n",
       "23         0              0           0               1\n",
       "24         1              0           0               0\n",
       "25         0              0           0               1\n",
       "26         0              0           0               1\n",
       "27         0              0           0               1"
      ]
     },
     "execution_count": 8,
     "metadata": {},
     "output_type": "execute_result"
    }
   ],
   "source": [
    "# Verificando o menor valor por linha utilizando números binários\n",
    "vermelhosdf = cartoladf.eq(cartoladf.min(axis=1),axis=0).astype(int)\n",
    "vermelhosdf"
   ]
  },
  {
   "cell_type": "code",
   "execution_count": 9,
   "id": "5d8c8fd7",
   "metadata": {},
   "outputs": [],
   "source": [
    "# Somando os valores\n",
    "vermelhos = vermelhosdf.sum()"
   ]
  },
  {
   "cell_type": "code",
   "execution_count": 10,
   "id": "cfb4bacd",
   "metadata": {},
   "outputs": [
    {
     "data": {
      "text/plain": [
       "[Text(0, 0, '4'), Text(0, 0, '3'), Text(0, 0, '4'), Text(0, 0, '16')]"
      ]
     },
     "execution_count": 10,
     "metadata": {},
     "output_type": "execute_result"
    },
    {
     "data": {
      "image/png": "[encoded data removed]",
      "text/plain": [
       "<Figure size 432x576 with 1 Axes>"
      ]
     },
     "metadata": {
      "needs_background": "light"
     },
     "output_type": "display_data"
    }
   ],
   "source": [
    "plt.figure(figsize=(6,8))\n",
    "splot=sns.barplot(x=vermelhos.index,y=vermelhos.values)\n",
    "plt.xlabel(\"Times\", size=12)\n",
    "plt.ylabel(\"Total\", size=12)\n",
    "plt.bar_label(splot.containers[0],size=12)"
   ]
  },
  {
   "cell_type": "code",
   "execution_count": 11,
   "id": "0f205e20",
   "metadata": {},
   "outputs": [
    {
     "data": {
      "text/html": [
       "<div>\n",
       "<style scoped>\n",
       "    .dataframe tbody tr th:only-of-type {\n",
       "        vertical-align: middle;\n",
       "    }\n",
       "\n",
       "    .dataframe tbody tr th {\n",
       "        vertical-align: top;\n",
       "    }\n",
       "\n",
       "    .dataframe thead th {\n",
       "        text-align: right;\n",
       "    }\n",
       "</style>\n",
       "<table border=\"1\" class=\"dataframe\">\n",
       "  <thead>\n",
       "    <tr style=\"text-align: right;\">\n",
       "      <th></th>\n",
       "      <th>big_blue</th>\n",
       "      <th>vermelho_luta</th>\n",
       "      <th>timbu_gold</th>\n",
       "    </tr>\n",
       "    <tr>\n",
       "      <th>id</th>\n",
       "      <th></th>\n",
       "      <th></th>\n",
       "      <th></th>\n",
       "    </tr>\n",
       "  </thead>\n",
       "  <tbody>\n",
       "    <tr>\n",
       "      <th>1</th>\n",
       "      <td>50.149902</td>\n",
       "      <td>41.250000</td>\n",
       "      <td>55.060059</td>\n",
       "    </tr>\n",
       "    <tr>\n",
       "      <th>2</th>\n",
       "      <td>59.649902</td>\n",
       "      <td>60.350098</td>\n",
       "      <td>48.850098</td>\n",
       "    </tr>\n",
       "    <tr>\n",
       "      <th>3</th>\n",
       "      <td>66.899902</td>\n",
       "      <td>62.100098</td>\n",
       "      <td>51.959961</td>\n",
       "    </tr>\n",
       "    <tr>\n",
       "      <th>4</th>\n",
       "      <td>38.350098</td>\n",
       "      <td>62.040039</td>\n",
       "      <td>37.540039</td>\n",
       "    </tr>\n",
       "    <tr>\n",
       "      <th>5</th>\n",
       "      <td>34.389893</td>\n",
       "      <td>52.590088</td>\n",
       "      <td>49.439941</td>\n",
       "    </tr>\n",
       "    <tr>\n",
       "      <th>6</th>\n",
       "      <td>57.729980</td>\n",
       "      <td>72.379883</td>\n",
       "      <td>89.540039</td>\n",
       "    </tr>\n",
       "    <tr>\n",
       "      <th>7</th>\n",
       "      <td>56.790039</td>\n",
       "      <td>48.780029</td>\n",
       "      <td>57.750000</td>\n",
       "    </tr>\n",
       "    <tr>\n",
       "      <th>8</th>\n",
       "      <td>67.000000</td>\n",
       "      <td>93.810059</td>\n",
       "      <td>65.109863</td>\n",
       "    </tr>\n",
       "    <tr>\n",
       "      <th>9</th>\n",
       "      <td>54.620117</td>\n",
       "      <td>57.320068</td>\n",
       "      <td>71.609863</td>\n",
       "    </tr>\n",
       "    <tr>\n",
       "      <th>10</th>\n",
       "      <td>48.020020</td>\n",
       "      <td>51.419922</td>\n",
       "      <td>39.649902</td>\n",
       "    </tr>\n",
       "    <tr>\n",
       "      <th>11</th>\n",
       "      <td>72.549805</td>\n",
       "      <td>68.529785</td>\n",
       "      <td>69.830078</td>\n",
       "    </tr>\n",
       "    <tr>\n",
       "      <th>12</th>\n",
       "      <td>53.649902</td>\n",
       "      <td>52.290039</td>\n",
       "      <td>93.589844</td>\n",
       "    </tr>\n",
       "    <tr>\n",
       "      <th>13</th>\n",
       "      <td>33.199951</td>\n",
       "      <td>80.109863</td>\n",
       "      <td>92.950195</td>\n",
       "    </tr>\n",
       "    <tr>\n",
       "      <th>14</th>\n",
       "      <td>59.830078</td>\n",
       "      <td>63.070068</td>\n",
       "      <td>54.360107</td>\n",
       "    </tr>\n",
       "    <tr>\n",
       "      <th>15</th>\n",
       "      <td>46.020020</td>\n",
       "      <td>13.010010</td>\n",
       "      <td>26.609985</td>\n",
       "    </tr>\n",
       "    <tr>\n",
       "      <th>16</th>\n",
       "      <td>61.219971</td>\n",
       "      <td>51.949951</td>\n",
       "      <td>65.549805</td>\n",
       "    </tr>\n",
       "    <tr>\n",
       "      <th>17</th>\n",
       "      <td>56.899902</td>\n",
       "      <td>39.750000</td>\n",
       "      <td>38.750000</td>\n",
       "    </tr>\n",
       "    <tr>\n",
       "      <th>18</th>\n",
       "      <td>70.870117</td>\n",
       "      <td>107.229980</td>\n",
       "      <td>96.040039</td>\n",
       "    </tr>\n",
       "    <tr>\n",
       "      <th>19</th>\n",
       "      <td>36.360107</td>\n",
       "      <td>41.500000</td>\n",
       "      <td>61.399902</td>\n",
       "    </tr>\n",
       "    <tr>\n",
       "      <th>20</th>\n",
       "      <td>45.179932</td>\n",
       "      <td>47.000000</td>\n",
       "      <td>40.429932</td>\n",
       "    </tr>\n",
       "    <tr>\n",
       "      <th>21</th>\n",
       "      <td>79.049805</td>\n",
       "      <td>89.609863</td>\n",
       "      <td>52.250000</td>\n",
       "    </tr>\n",
       "    <tr>\n",
       "      <th>22</th>\n",
       "      <td>48.500000</td>\n",
       "      <td>89.529785</td>\n",
       "      <td>53.600098</td>\n",
       "    </tr>\n",
       "    <tr>\n",
       "      <th>23</th>\n",
       "      <td>60.050049</td>\n",
       "      <td>59.919922</td>\n",
       "      <td>55.379883</td>\n",
       "    </tr>\n",
       "    <tr>\n",
       "      <th>24</th>\n",
       "      <td>28.939941</td>\n",
       "      <td>32.840088</td>\n",
       "      <td>36.340088</td>\n",
       "    </tr>\n",
       "    <tr>\n",
       "      <th>25</th>\n",
       "      <td>72.250000</td>\n",
       "      <td>75.419922</td>\n",
       "      <td>46.820068</td>\n",
       "    </tr>\n",
       "    <tr>\n",
       "      <th>26</th>\n",
       "      <td>86.000000</td>\n",
       "      <td>80.879883</td>\n",
       "      <td>98.279785</td>\n",
       "    </tr>\n",
       "    <tr>\n",
       "      <th>27</th>\n",
       "      <td>47.209961</td>\n",
       "      <td>46.409912</td>\n",
       "      <td>59.709961</td>\n",
       "    </tr>\n",
       "  </tbody>\n",
       "</table>\n",
       "</div>"
      ],
      "text/plain": [
       "     big_blue  vermelho_luta  timbu_gold\n",
       "id                                      \n",
       "1   50.149902      41.250000   55.060059\n",
       "2   59.649902      60.350098   48.850098\n",
       "3   66.899902      62.100098   51.959961\n",
       "4   38.350098      62.040039   37.540039\n",
       "5   34.389893      52.590088   49.439941\n",
       "6   57.729980      72.379883   89.540039\n",
       "7   56.790039      48.780029   57.750000\n",
       "8   67.000000      93.810059   65.109863\n",
       "9   54.620117      57.320068   71.609863\n",
       "10  48.020020      51.419922   39.649902\n",
       "11  72.549805      68.529785   69.830078\n",
       "12  53.649902      52.290039   93.589844\n",
       "13  33.199951      80.109863   92.950195\n",
       "14  59.830078      63.070068   54.360107\n",
       "15  46.020020      13.010010   26.609985\n",
       "16  61.219971      51.949951   65.549805\n",
       "17  56.899902      39.750000   38.750000\n",
       "18  70.870117     107.229980   96.040039\n",
       "19  36.360107      41.500000   61.399902\n",
       "20  45.179932      47.000000   40.429932\n",
       "21  79.049805      89.609863   52.250000\n",
       "22  48.500000      89.529785   53.600098\n",
       "23  60.050049      59.919922   55.379883\n",
       "24  28.939941      32.840088   36.340088\n",
       "25  72.250000      75.419922   46.820068\n",
       "26  86.000000      80.879883   98.279785\n",
       "27  47.209961      46.409912   59.709961"
      ]
     },
     "execution_count": 11,
     "metadata": {},
     "output_type": "execute_result"
    }
   ],
   "source": [
    "# Verificando a quantidade de vermelhos caso o maranhao_uchoa não tivesse no campeonato\n",
    "# Selecionando apenas as outras colunas\n",
    "\n",
    "vermelhos_3 = cartoladf[['big_blue', 'vermelho_luta', 'timbu_gold']]\n",
    "vermelhos_3 "
   ]
  },
  {
   "cell_type": "code",
   "execution_count": 12,
   "id": "fbe99dee",
   "metadata": {},
   "outputs": [
    {
     "data": {
      "text/html": [
       "<div>\n",
       "<style scoped>\n",
       "    .dataframe tbody tr th:only-of-type {\n",
       "        vertical-align: middle;\n",
       "    }\n",
       "\n",
       "    .dataframe tbody tr th {\n",
       "        vertical-align: top;\n",
       "    }\n",
       "\n",
       "    .dataframe thead th {\n",
       "        text-align: right;\n",
       "    }\n",
       "</style>\n",
       "<table border=\"1\" class=\"dataframe\">\n",
       "  <thead>\n",
       "    <tr style=\"text-align: right;\">\n",
       "      <th></th>\n",
       "      <th>big_blue</th>\n",
       "      <th>vermelho_luta</th>\n",
       "      <th>timbu_gold</th>\n",
       "    </tr>\n",
       "    <tr>\n",
       "      <th>id</th>\n",
       "      <th></th>\n",
       "      <th></th>\n",
       "      <th></th>\n",
       "    </tr>\n",
       "  </thead>\n",
       "  <tbody>\n",
       "    <tr>\n",
       "      <th>1</th>\n",
       "      <td>0</td>\n",
       "      <td>1</td>\n",
       "      <td>0</td>\n",
       "    </tr>\n",
       "    <tr>\n",
       "      <th>2</th>\n",
       "      <td>0</td>\n",
       "      <td>0</td>\n",
       "      <td>1</td>\n",
       "    </tr>\n",
       "    <tr>\n",
       "      <th>3</th>\n",
       "      <td>0</td>\n",
       "      <td>0</td>\n",
       "      <td>1</td>\n",
       "    </tr>\n",
       "    <tr>\n",
       "      <th>4</th>\n",
       "      <td>0</td>\n",
       "      <td>0</td>\n",
       "      <td>1</td>\n",
       "    </tr>\n",
       "    <tr>\n",
       "      <th>5</th>\n",
       "      <td>1</td>\n",
       "      <td>0</td>\n",
       "      <td>0</td>\n",
       "    </tr>\n",
       "    <tr>\n",
       "      <th>6</th>\n",
       "      <td>1</td>\n",
       "      <td>0</td>\n",
       "      <td>0</td>\n",
       "    </tr>\n",
       "    <tr>\n",
       "      <th>7</th>\n",
       "      <td>0</td>\n",
       "      <td>1</td>\n",
       "      <td>0</td>\n",
       "    </tr>\n",
       "    <tr>\n",
       "      <th>8</th>\n",
       "      <td>0</td>\n",
       "      <td>0</td>\n",
       "      <td>1</td>\n",
       "    </tr>\n",
       "    <tr>\n",
       "      <th>9</th>\n",
       "      <td>1</td>\n",
       "      <td>0</td>\n",
       "      <td>0</td>\n",
       "    </tr>\n",
       "    <tr>\n",
       "      <th>10</th>\n",
       "      <td>0</td>\n",
       "      <td>0</td>\n",
       "      <td>1</td>\n",
       "    </tr>\n",
       "    <tr>\n",
       "      <th>11</th>\n",
       "      <td>0</td>\n",
       "      <td>1</td>\n",
       "      <td>0</td>\n",
       "    </tr>\n",
       "    <tr>\n",
       "      <th>12</th>\n",
       "      <td>0</td>\n",
       "      <td>1</td>\n",
       "      <td>0</td>\n",
       "    </tr>\n",
       "    <tr>\n",
       "      <th>13</th>\n",
       "      <td>1</td>\n",
       "      <td>0</td>\n",
       "      <td>0</td>\n",
       "    </tr>\n",
       "    <tr>\n",
       "      <th>14</th>\n",
       "      <td>0</td>\n",
       "      <td>0</td>\n",
       "      <td>1</td>\n",
       "    </tr>\n",
       "    <tr>\n",
       "      <th>15</th>\n",
       "      <td>0</td>\n",
       "      <td>1</td>\n",
       "      <td>0</td>\n",
       "    </tr>\n",
       "    <tr>\n",
       "      <th>16</th>\n",
       "      <td>0</td>\n",
       "      <td>1</td>\n",
       "      <td>0</td>\n",
       "    </tr>\n",
       "    <tr>\n",
       "      <th>17</th>\n",
       "      <td>0</td>\n",
       "      <td>0</td>\n",
       "      <td>1</td>\n",
       "    </tr>\n",
       "    <tr>\n",
       "      <th>18</th>\n",
       "      <td>1</td>\n",
       "      <td>0</td>\n",
       "      <td>0</td>\n",
       "    </tr>\n",
       "    <tr>\n",
       "      <th>19</th>\n",
       "      <td>1</td>\n",
       "      <td>0</td>\n",
       "      <td>0</td>\n",
       "    </tr>\n",
       "    <tr>\n",
       "      <th>20</th>\n",
       "      <td>0</td>\n",
       "      <td>0</td>\n",
       "      <td>1</td>\n",
       "    </tr>\n",
       "    <tr>\n",
       "      <th>21</th>\n",
       "      <td>0</td>\n",
       "      <td>0</td>\n",
       "      <td>1</td>\n",
       "    </tr>\n",
       "    <tr>\n",
       "      <th>22</th>\n",
       "      <td>1</td>\n",
       "      <td>0</td>\n",
       "      <td>0</td>\n",
       "    </tr>\n",
       "    <tr>\n",
       "      <th>23</th>\n",
       "      <td>0</td>\n",
       "      <td>0</td>\n",
       "      <td>1</td>\n",
       "    </tr>\n",
       "    <tr>\n",
       "      <th>24</th>\n",
       "      <td>1</td>\n",
       "      <td>0</td>\n",
       "      <td>0</td>\n",
       "    </tr>\n",
       "    <tr>\n",
       "      <th>25</th>\n",
       "      <td>0</td>\n",
       "      <td>0</td>\n",
       "      <td>1</td>\n",
       "    </tr>\n",
       "    <tr>\n",
       "      <th>26</th>\n",
       "      <td>0</td>\n",
       "      <td>1</td>\n",
       "      <td>0</td>\n",
       "    </tr>\n",
       "    <tr>\n",
       "      <th>27</th>\n",
       "      <td>0</td>\n",
       "      <td>1</td>\n",
       "      <td>0</td>\n",
       "    </tr>\n",
       "  </tbody>\n",
       "</table>\n",
       "</div>"
      ],
      "text/plain": [
       "    big_blue  vermelho_luta  timbu_gold\n",
       "id                                     \n",
       "1          0              1           0\n",
       "2          0              0           1\n",
       "3          0              0           1\n",
       "4          0              0           1\n",
       "5          1              0           0\n",
       "6          1              0           0\n",
       "7          0              1           0\n",
       "8          0              0           1\n",
       "9          1              0           0\n",
       "10         0              0           1\n",
       "11         0              1           0\n",
       "12         0              1           0\n",
       "13         1              0           0\n",
       "14         0              0           1\n",
       "15         0              1           0\n",
       "16         0              1           0\n",
       "17         0              0           1\n",
       "18         1              0           0\n",
       "19         1              0           0\n",
       "20         0              0           1\n",
       "21         0              0           1\n",
       "22         1              0           0\n",
       "23         0              0           1\n",
       "24         1              0           0\n",
       "25         0              0           1\n",
       "26         0              1           0\n",
       "27         0              1           0"
      ]
     },
     "execution_count": 12,
     "metadata": {},
     "output_type": "execute_result"
    }
   ],
   "source": [
    "vermelhos_3 = vermelhos_3.eq(vermelhos_3.min(axis=1),axis=0).astype(int)\n",
    "vermelhos_3"
   ]
  },
  {
   "cell_type": "code",
   "execution_count": 13,
   "id": "de8eeb2b",
   "metadata": {},
   "outputs": [],
   "source": [
    "# Vermelhos sem maranhao_uchoa\n",
    "ver3 = vermelhos_3.sum()"
   ]
  },
  {
   "cell_type": "code",
   "execution_count": 14,
   "id": "55fa66b4",
   "metadata": {},
   "outputs": [
    {
     "data": {
      "text/plain": [
       "[Text(0, 0, '8'), Text(0, 0, '8'), Text(0, 0, '11')]"
      ]
     },
     "execution_count": 14,
     "metadata": {},
     "output_type": "execute_result"
    },
    {
     "data": {
      "image/png": "[encoded data removed]",
      "text/plain": [
       "<Figure size 432x576 with 1 Axes>"
      ]
     },
     "metadata": {
      "needs_background": "light"
     },
     "output_type": "display_data"
    }
   ],
   "source": [
    "plt.figure(figsize=(6,8))\n",
    "splot=sns.barplot(x=ver3.index,y=ver3.values)\n",
    "plt.xlabel(\"Times\", size=12)\n",
    "plt.ylabel(\"Total\", size=12)\n",
    "plt.bar_label(splot.containers[0],size=12)"
   ]
  },
  {
   "cell_type": "markdown",
   "id": "bd403779",
   "metadata": {},
   "source": [
    "# Outras Estatísticas"
   ]
  },
  {
   "cell_type": "markdown",
   "id": "c8bb978b",
   "metadata": {},
   "source": [
    "## Maior pontuação de cada time"
   ]
  },
  {
   "cell_type": "code",
   "execution_count": 15,
   "id": "8b4fdbec",
   "metadata": {},
   "outputs": [
    {
     "data": {
      "text/plain": [
       "big_blue           86.000000\n",
       "vermelho_luta     107.229980\n",
       "timbu_gold         98.279785\n",
       "maranhao_uchoa     81.259766\n",
       "dtype: float64"
      ]
     },
     "execution_count": 15,
     "metadata": {},
     "output_type": "execute_result"
    }
   ],
   "source": [
    "# Maior Pontuação\n",
    "cartoladf.max()"
   ]
  },
  {
   "cell_type": "markdown",
   "id": "b3b2947d",
   "metadata": {},
   "source": [
    "## Menor pontuação de cada time"
   ]
  },
  {
   "cell_type": "code",
   "execution_count": 16,
   "id": "f5a9139f",
   "metadata": {},
   "outputs": [
    {
     "data": {
      "text/plain": [
       "big_blue          28.939941\n",
       "vermelho_luta     13.010010\n",
       "timbu_gold        26.609985\n",
       "maranhao_uchoa    10.770020\n",
       "dtype: float64"
      ]
     },
     "execution_count": 16,
     "metadata": {},
     "output_type": "execute_result"
    }
   ],
   "source": [
    "# Menor Pontuação\n",
    "cartoladf.min()"
   ]
  },
  {
   "cell_type": "markdown",
   "id": "1a15a75c",
   "metadata": {},
   "source": [
    "## Desempenho nas últimas 5 rodadas"
   ]
  },
  {
   "cell_type": "code",
   "execution_count": 17,
   "id": "69e8ca50",
   "metadata": {},
   "outputs": [],
   "source": [
    "cinco_ultimas = cartoladf.iloc[-5:].sum()"
   ]
  },
  {
   "cell_type": "code",
   "execution_count": 18,
   "id": "fcf400cf",
   "metadata": {},
   "outputs": [
    {
     "data": {
      "text/plain": [
       "[Text(0, 0, '294.45'),\n",
       " Text(0, 0, '295.47'),\n",
       " Text(0, 0, '296.53'),\n",
       " Text(0, 0, '219.46')]"
      ]
     },
     "execution_count": 18,
     "metadata": {},
     "output_type": "execute_result"
    },
    {
     "data": {
      "image/png": "[encoded data removed]",
      "text/plain": [
       "<Figure size 432x576 with 1 Axes>"
      ]
     },
     "metadata": {
      "needs_background": "light"
     },
     "output_type": "display_data"
    }
   ],
   "source": [
    "plt.figure(figsize=(6,8))\n",
    "splot=sns.barplot(x=cinco_ultimas.index,y=cinco_ultimas.values)\n",
    "plt.xlabel(\"Times\", size=16)\n",
    "plt.ylabel(\"Pontos\", size=16)\n",
    "plt.bar_label(splot.containers[0],size=16)\n"
   ]
  },
  {
   "cell_type": "markdown",
   "id": "490d4d6d",
   "metadata": {},
   "source": [
    "# Primeiro turno"
   ]
  },
  {
   "cell_type": "markdown",
   "id": "4a51031d",
   "metadata": {},
   "source": [
    "### Pontuação geral"
   ]
  },
  {
   "cell_type": "code",
   "execution_count": 19,
   "id": "e1a45c7e",
   "metadata": {},
   "outputs": [],
   "source": [
    "primeiro_turno = cartoladf.loc[1:19].sum()"
   ]
  },
  {
   "cell_type": "code",
   "execution_count": 20,
   "id": "16a3f4db",
   "metadata": {},
   "outputs": [
    {
     "data": {
      "text/plain": [
       "[Text(0, 0, '1024.2'),\n",
       " Text(0, 0, '1119.48'),\n",
       " Text(0, 0, '1165.59'),\n",
       " Text(0, 0, '977.179')]"
      ]
     },
     "execution_count": 20,
     "metadata": {},
     "output_type": "execute_result"
    },
    {
     "data": {
      "image/png": "[encoded data removed]",
      "text/plain": [
       "<Figure size 432x576 with 1 Axes>"
      ]
     },
     "metadata": {
      "needs_background": "light"
     },
     "output_type": "display_data"
    }
   ],
   "source": [
    "plt.figure(figsize=(6,8))\n",
    "splot=sns.barplot(x=primeiro_turno.index,y=primeiro_turno.values)\n",
    "plt.xlabel(\"Times\", size=16)\n",
    "plt.ylabel(\"Pontos\", size=16)\n",
    "plt.bar_label(splot.containers[0],size=16)"
   ]
  },
  {
   "cell_type": "markdown",
   "id": "bbf8a73d",
   "metadata": {},
   "source": [
    "### Verdes - Primeiro Turno"
   ]
  },
  {
   "cell_type": "code",
   "execution_count": 21,
   "id": "ca7f13d0",
   "metadata": {},
   "outputs": [],
   "source": [
    "verdes_primeiro = verdesdf.loc[1:19].sum()"
   ]
  },
  {
   "cell_type": "code",
   "execution_count": 22,
   "id": "ca47578d",
   "metadata": {},
   "outputs": [
    {
     "data": {
      "text/plain": [
       "[Text(0, 0, '3'), Text(0, 0, '6'), Text(0, 0, '7'), Text(0, 0, '3')]"
      ]
     },
     "execution_count": 22,
     "metadata": {},
     "output_type": "execute_result"
    },
    {
     "data": {
      "image/png": "[encoded data removed]",
      "text/plain": [
       "<Figure size 432x576 with 1 Axes>"
      ]
     },
     "metadata": {
      "needs_background": "light"
     },
     "output_type": "display_data"
    }
   ],
   "source": [
    "plt.figure(figsize=(6,8))\n",
    "splot=sns.barplot(x=verdes_primeiro.index,y=verdes_primeiro.values)\n",
    "plt.xlabel(\"Times\", size=16)\n",
    "plt.ylabel(\"Total\", size=16)\n",
    "plt.bar_label(splot.containers[0],size=16)"
   ]
  },
  {
   "cell_type": "markdown",
   "id": "5e3c8511",
   "metadata": {},
   "source": [
    "### Vermelhos - Primeiro Turno"
   ]
  },
  {
   "cell_type": "code",
   "execution_count": 23,
   "id": "887f2df8",
   "metadata": {},
   "outputs": [],
   "source": [
    "vermelhos_primeiro = vermelhosdf.loc[1:19].sum()"
   ]
  },
  {
   "cell_type": "code",
   "execution_count": 24,
   "id": "1a155cab",
   "metadata": {},
   "outputs": [
    {
     "data": {
      "text/plain": [
       "[Text(0, 0, '2'), Text(0, 0, '3'), Text(0, 0, '4'), Text(0, 0, '10')]"
      ]
     },
     "execution_count": 24,
     "metadata": {},
     "output_type": "execute_result"
    },
    {
     "data": {
      "image/png": "[encoded data removed]",
      "text/plain": [
       "<Figure size 432x576 with 1 Axes>"
      ]
     },
     "metadata": {
      "needs_background": "light"
     },
     "output_type": "display_data"
    }
   ],
   "source": [
    "plt.figure(figsize=(6,8))\n",
    "splot=sns.barplot(x=vermelhos_primeiro.index,y=vermelhos_primeiro)\n",
    "plt.xlabel(\"Times\", size=16)\n",
    "plt.ylabel(\"Total\", size=16)\n",
    "plt.bar_label(splot.containers[0],size=16)"
   ]
  },
  {
   "cell_type": "markdown",
   "id": "4ac31d2f",
   "metadata": {},
   "source": [
    "# Comparando desempenho nas 8 primeiras rodadas de cada turno"
   ]
  },
  {
   "cell_type": "code",
   "execution_count": 25,
   "id": "91ea702c",
   "metadata": {},
   "outputs": [],
   "source": [
    "oito_prim = cartoladf.loc[1:8].sum()"
   ]
  },
  {
   "cell_type": "code",
   "execution_count": 26,
   "id": "e97b7eaa",
   "metadata": {},
   "outputs": [],
   "source": [
    "oito_seg = cartoladf.loc[20:27].sum()"
   ]
  },
  {
   "cell_type": "code",
   "execution_count": 27,
   "id": "0acc1ce0",
   "metadata": {},
   "outputs": [
    {
     "data": {
      "image/png": "[encoded data removed]",
      "text/plain": [
       "<Figure size 864x576 with 1 Axes>"
      ]
     },
     "metadata": {
      "needs_background": "light"
     },
     "output_type": "display_data"
    }
   ],
   "source": [
    "# Cria eixo x para objetos com uma separação de 0.25 entre as barras\n",
    "x1 =  np.arange(len(oito_prim))\n",
    "x2 = [x + 0.30 for x in x1]\n",
    "\n",
    "plt.figure(figsize=(12,8))\n",
    "\n",
    "# Plota as barras\n",
    "plt.bar(oito_prim.index, oito_prim, width=0.25, label = 'Rodadas 1 a 8', color = 'b')\n",
    "plt.bar(x2, oito_seg, width=0.25, label = 'Rodadas 20 a 27', color = 'y')\n",
    "\n",
    "\n",
    "# Adicionando valores dentro do plot\n",
    "ax = plt.gca()\n",
    "plt.bar_label(ax.containers[0])\n",
    "plt.bar_label(ax.containers[1])\n",
    "\n",
    "\n",
    "# insere uma legenda no gráfico\n",
    "plt.legend()\n",
    "\n",
    "plt.title(\"Oito primeiras rodadas de cada turno\")\n",
    "\n",
    "plt.show()\n"
   ]
  },
  {
   "cell_type": "markdown",
   "id": "c5944500",
   "metadata": {},
   "source": [
    "# Duelos"
   ]
  },
  {
   "cell_type": "markdown",
   "id": "a6c833af",
   "metadata": {},
   "source": [
    "### Big Blue x Vermelho de Luta"
   ]
  },
  {
   "cell_type": "code",
   "execution_count": 28,
   "id": "e6bda815",
   "metadata": {},
   "outputs": [],
   "source": [
    "big_x_ver = cartoladf[['big_blue', 'vermelho_luta']]\n",
    "big_x_ver = big_x_ver.eq(big_x_ver.max(axis=1),axis=0).astype(int)\n",
    "big_x_ver = big_x_ver.sum()"
   ]
  },
  {
   "cell_type": "code",
   "execution_count": 29,
   "id": "4456c607",
   "metadata": {},
   "outputs": [
    {
     "data": {
      "text/plain": [
       "[Text(0, 0, '11'), Text(0, 0, '16')]"
      ]
     },
     "execution_count": 29,
     "metadata": {},
     "output_type": "execute_result"
    },
    {
     "data": {
      "image/png": "[encoded data removed]",
      "text/plain": [
       "<Figure size 432x432 with 1 Axes>"
      ]
     },
     "metadata": {
      "needs_background": "light"
     },
     "output_type": "display_data"
    }
   ],
   "source": [
    "plt.figure(figsize=(6,6))\n",
    "splot=sns.barplot(x=big_x_ver.index,y=big_x_ver)\n",
    "plt.xlabel(\"Times\", size=16)\n",
    "plt.ylabel(\"Total\", size=16)\n",
    "plt.bar_label(splot.containers[0],size=12)"
   ]
  },
  {
   "cell_type": "markdown",
   "id": "aed476b1",
   "metadata": {},
   "source": [
    "### Big Blue x Timbu Gold"
   ]
  },
  {
   "cell_type": "code",
   "execution_count": 30,
   "id": "ee361eb5",
   "metadata": {},
   "outputs": [],
   "source": [
    "big_x_tg = cartoladf[['big_blue', 'timbu_gold']]\n",
    "big_x_tg = big_x_tg.eq(big_x_tg.max(axis=1),axis=0).astype(int)\n",
    "big_x_tg = big_x_tg.sum()"
   ]
  },
  {
   "cell_type": "code",
   "execution_count": 31,
   "id": "f8efc4c1",
   "metadata": {},
   "outputs": [
    {
     "data": {
      "text/plain": [
       "[Text(0, 0, '13'), Text(0, 0, '14')]"
      ]
     },
     "execution_count": 31,
     "metadata": {},
     "output_type": "execute_result"
    },
    {
     "data": {
      "image/png": "[encoded data removed]",
      "text/plain": [
       "<Figure size 432x432 with 1 Axes>"
      ]
     },
     "metadata": {
      "needs_background": "light"
     },
     "output_type": "display_data"
    }
   ],
   "source": [
    "plt.figure(figsize=(6,6))\n",
    "splot=sns.barplot(x=big_x_tg.index,y=big_x_tg)\n",
    "plt.xlabel(\"Times\", size=16)\n",
    "plt.ylabel(\"Total\", size=16)\n",
    "plt.bar_label(splot.containers[0],size=12)"
   ]
  },
  {
   "cell_type": "markdown",
   "id": "26eb6ef0",
   "metadata": {},
   "source": [
    "### Big Blue x Maranhão Uchôa"
   ]
  },
  {
   "cell_type": "code",
   "execution_count": 32,
   "id": "bc4c33dd",
   "metadata": {},
   "outputs": [],
   "source": [
    "big_x_mu = cartoladf[['big_blue', 'maranhao_uchoa']]\n",
    "big_x_mu = big_x_mu.eq(big_x_mu.max(axis=1),axis=0).astype(int)\n",
    "big_x_mu = big_x_mu.sum()"
   ]
  },
  {
   "cell_type": "code",
   "execution_count": 33,
   "id": "86ae7a06",
   "metadata": {},
   "outputs": [
    {
     "data": {
      "text/plain": [
       "[Text(0, 0, '18'), Text(0, 0, '9')]"
      ]
     },
     "execution_count": 33,
     "metadata": {},
     "output_type": "execute_result"
    },
    {
     "data": {
      "image/png": "[encoded data removed]",
      "text/plain": [
       "<Figure size 432x432 with 1 Axes>"
      ]
     },
     "metadata": {
      "needs_background": "light"
     },
     "output_type": "display_data"
    }
   ],
   "source": [
    "plt.figure(figsize=(6,6))\n",
    "splot=sns.barplot(x=big_x_mu.index,y=big_x_mu)\n",
    "plt.xlabel(\"Times\", size=16)\n",
    "plt.ylabel(\"Total\", size=16)\n",
    "plt.bar_label(splot.containers[0],size=12)"
   ]
  },
  {
   "cell_type": "markdown",
   "id": "ca092486",
   "metadata": {},
   "source": [
    "### Timbu Gold x Maranhão Uchoa"
   ]
  },
  {
   "cell_type": "code",
   "execution_count": 34,
   "id": "621a2890",
   "metadata": {},
   "outputs": [],
   "source": [
    "tg_x_mu = cartoladf[['timbu_gold', 'maranhao_uchoa']]\n",
    "tg_x_mu = tg_x_mu.eq(tg_x_mu.max(axis=1),axis=0).astype(int)\n",
    "tg_x_mu = tg_x_mu.sum()"
   ]
  },
  {
   "cell_type": "code",
   "execution_count": 35,
   "id": "f3aacef6",
   "metadata": {},
   "outputs": [
    {
     "data": {
      "text/plain": [
       "[Text(0, 0, '19'), Text(0, 0, '8')]"
      ]
     },
     "execution_count": 35,
     "metadata": {},
     "output_type": "execute_result"
    },
    {
     "data": {
      "image/png": "[encoded data removed]",
      "text/plain": [
       "<Figure size 432x432 with 1 Axes>"
      ]
     },
     "metadata": {
      "needs_background": "light"
     },
     "output_type": "display_data"
    }
   ],
   "source": [
    "plt.figure(figsize=(6,6))\n",
    "splot=sns.barplot(x=tg_x_mu.index,y=tg_x_mu)\n",
    "plt.xlabel(\"Times\", size=16)\n",
    "plt.ylabel(\"Total\", size=16)\n",
    "plt.bar_label(splot.containers[0],size=12)"
   ]
  },
  {
   "cell_type": "markdown",
   "id": "07c3bc9c",
   "metadata": {},
   "source": [
    "### Vermelho de Luta x Maranhão Uchôa"
   ]
  },
  {
   "cell_type": "code",
   "execution_count": 36,
   "id": "9eae0fe3",
   "metadata": {},
   "outputs": [],
   "source": [
    "ver_x_mu = cartoladf[['vermelho_luta', 'maranhao_uchoa']]\n",
    "ver_x_mu = ver_x_mu.eq(ver_x_mu.max(axis=1),axis=0).astype(int)\n",
    "ver_x_mu = ver_x_mu.sum()"
   ]
  },
  {
   "cell_type": "code",
   "execution_count": 37,
   "id": "ad6ac815",
   "metadata": {},
   "outputs": [
    {
     "data": {
      "text/plain": [
       "[Text(0, 0, '20'), Text(0, 0, '7')]"
      ]
     },
     "execution_count": 37,
     "metadata": {},
     "output_type": "execute_result"
    },
    {
     "data": {
      "image/png": "[encoded data removed]",
      "text/plain": [
       "<Figure size 432x432 with 1 Axes>"
      ]
     },
     "metadata": {
      "needs_background": "light"
     },
     "output_type": "display_data"
    }
   ],
   "source": [
    "plt.figure(figsize=(6,6))\n",
    "splot=sns.barplot(x=ver_x_mu.index,y=ver_x_mu)\n",
    "plt.xlabel(\"Times\", size=16)\n",
    "plt.ylabel(\"Total\", size=16)\n",
    "plt.bar_label(splot.containers[0],size=12)"
   ]
  },
  {
   "cell_type": "markdown",
   "id": "eb3732b4",
   "metadata": {},
   "source": [
    "### Vermelho de Luta x Timbu Gold"
   ]
  },
  {
   "cell_type": "code",
   "execution_count": 38,
   "id": "3779eb8c",
   "metadata": {},
   "outputs": [
    {
     "data": {
      "text/html": [
       "<div>\n",
       "<style scoped>\n",
       "    .dataframe tbody tr th:only-of-type {\n",
       "        vertical-align: middle;\n",
       "    }\n",
       "\n",
       "    .dataframe tbody tr th {\n",
       "        vertical-align: top;\n",
       "    }\n",
       "\n",
       "    .dataframe thead th {\n",
       "        text-align: right;\n",
       "    }\n",
       "</style>\n",
       "<table border=\"1\" class=\"dataframe\">\n",
       "  <thead>\n",
       "    <tr style=\"text-align: right;\">\n",
       "      <th></th>\n",
       "      <th>vermelho_luta</th>\n",
       "      <th>timbu_gold</th>\n",
       "    </tr>\n",
       "    <tr>\n",
       "      <th>id</th>\n",
       "      <th></th>\n",
       "      <th></th>\n",
       "    </tr>\n",
       "  </thead>\n",
       "  <tbody>\n",
       "    <tr>\n",
       "      <th>1</th>\n",
       "      <td>0</td>\n",
       "      <td>1</td>\n",
       "    </tr>\n",
       "    <tr>\n",
       "      <th>2</th>\n",
       "      <td>1</td>\n",
       "      <td>0</td>\n",
       "    </tr>\n",
       "    <tr>\n",
       "      <th>3</th>\n",
       "      <td>1</td>\n",
       "      <td>0</td>\n",
       "    </tr>\n",
       "    <tr>\n",
       "      <th>4</th>\n",
       "      <td>1</td>\n",
       "      <td>0</td>\n",
       "    </tr>\n",
       "    <tr>\n",
       "      <th>5</th>\n",
       "      <td>1</td>\n",
       "      <td>0</td>\n",
       "    </tr>\n",
       "    <tr>\n",
       "      <th>6</th>\n",
       "      <td>0</td>\n",
       "      <td>1</td>\n",
       "    </tr>\n",
       "    <tr>\n",
       "      <th>7</th>\n",
       "      <td>0</td>\n",
       "      <td>1</td>\n",
       "    </tr>\n",
       "    <tr>\n",
       "      <th>8</th>\n",
       "      <td>1</td>\n",
       "      <td>0</td>\n",
       "    </tr>\n",
       "    <tr>\n",
       "      <th>9</th>\n",
       "      <td>0</td>\n",
       "      <td>1</td>\n",
       "    </tr>\n",
       "    <tr>\n",
       "      <th>10</th>\n",
       "      <td>1</td>\n",
       "      <td>0</td>\n",
       "    </tr>\n",
       "    <tr>\n",
       "      <th>11</th>\n",
       "      <td>0</td>\n",
       "      <td>1</td>\n",
       "    </tr>\n",
       "    <tr>\n",
       "      <th>12</th>\n",
       "      <td>0</td>\n",
       "      <td>1</td>\n",
       "    </tr>\n",
       "    <tr>\n",
       "      <th>13</th>\n",
       "      <td>0</td>\n",
       "      <td>1</td>\n",
       "    </tr>\n",
       "    <tr>\n",
       "      <th>14</th>\n",
       "      <td>1</td>\n",
       "      <td>0</td>\n",
       "    </tr>\n",
       "    <tr>\n",
       "      <th>15</th>\n",
       "      <td>0</td>\n",
       "      <td>1</td>\n",
       "    </tr>\n",
       "    <tr>\n",
       "      <th>16</th>\n",
       "      <td>0</td>\n",
       "      <td>1</td>\n",
       "    </tr>\n",
       "    <tr>\n",
       "      <th>17</th>\n",
       "      <td>1</td>\n",
       "      <td>0</td>\n",
       "    </tr>\n",
       "    <tr>\n",
       "      <th>18</th>\n",
       "      <td>1</td>\n",
       "      <td>0</td>\n",
       "    </tr>\n",
       "    <tr>\n",
       "      <th>19</th>\n",
       "      <td>0</td>\n",
       "      <td>1</td>\n",
       "    </tr>\n",
       "    <tr>\n",
       "      <th>20</th>\n",
       "      <td>1</td>\n",
       "      <td>0</td>\n",
       "    </tr>\n",
       "    <tr>\n",
       "      <th>21</th>\n",
       "      <td>1</td>\n",
       "      <td>0</td>\n",
       "    </tr>\n",
       "    <tr>\n",
       "      <th>22</th>\n",
       "      <td>1</td>\n",
       "      <td>0</td>\n",
       "    </tr>\n",
       "    <tr>\n",
       "      <th>23</th>\n",
       "      <td>1</td>\n",
       "      <td>0</td>\n",
       "    </tr>\n",
       "    <tr>\n",
       "      <th>24</th>\n",
       "      <td>0</td>\n",
       "      <td>1</td>\n",
       "    </tr>\n",
       "    <tr>\n",
       "      <th>25</th>\n",
       "      <td>1</td>\n",
       "      <td>0</td>\n",
       "    </tr>\n",
       "    <tr>\n",
       "      <th>26</th>\n",
       "      <td>0</td>\n",
       "      <td>1</td>\n",
       "    </tr>\n",
       "    <tr>\n",
       "      <th>27</th>\n",
       "      <td>0</td>\n",
       "      <td>1</td>\n",
       "    </tr>\n",
       "  </tbody>\n",
       "</table>\n",
       "</div>"
      ],
      "text/plain": [
       "    vermelho_luta  timbu_gold\n",
       "id                           \n",
       "1               0           1\n",
       "2               1           0\n",
       "3               1           0\n",
       "4               1           0\n",
       "5               1           0\n",
       "6               0           1\n",
       "7               0           1\n",
       "8               1           0\n",
       "9               0           1\n",
       "10              1           0\n",
       "11              0           1\n",
       "12              0           1\n",
       "13              0           1\n",
       "14              1           0\n",
       "15              0           1\n",
       "16              0           1\n",
       "17              1           0\n",
       "18              1           0\n",
       "19              0           1\n",
       "20              1           0\n",
       "21              1           0\n",
       "22              1           0\n",
       "23              1           0\n",
       "24              0           1\n",
       "25              1           0\n",
       "26              0           1\n",
       "27              0           1"
      ]
     },
     "execution_count": 38,
     "metadata": {},
     "output_type": "execute_result"
    }
   ],
   "source": [
    "ver_x_tg = cartoladf[['vermelho_luta', 'timbu_gold']]\n",
    "ver_x_tg.eq(ver_x_tg.max(axis=1),axis=0).astype(int)\n"
   ]
  },
  {
   "cell_type": "code",
   "execution_count": 39,
   "id": "6cb892d4",
   "metadata": {},
   "outputs": [],
   "source": [
    "ver_x_tg = ver_x_tg.eq(ver_x_tg.max(axis=1),axis=0).astype(int)"
   ]
  },
  {
   "cell_type": "code",
   "execution_count": 40,
   "id": "f537d954",
   "metadata": {},
   "outputs": [],
   "source": [
    "ver_x_tg = ver_x_tg.sum()"
   ]
  },
  {
   "cell_type": "code",
   "execution_count": 41,
   "id": "1e001b1d",
   "metadata": {},
   "outputs": [
    {
     "data": {
      "text/plain": [
       "[Text(0, 0, '14'), Text(0, 0, '13')]"
      ]
     },
     "execution_count": 41,
     "metadata": {},
     "output_type": "execute_result"
    },
    {
     "data": {
      "image/png": "[encoded data removed]",
      "text/plain": [
       "<Figure size 432x432 with 1 Axes>"
      ]
     },
     "metadata": {
      "needs_background": "light"
     },
     "output_type": "display_data"
    }
   ],
   "source": [
    "plt.figure(figsize=(6,6))\n",
    "splot=sns.barplot(x=ver_x_tg.index,y=ver_x_tg)\n",
    "plt.xlabel(\"Times\", size=16)\n",
    "plt.ylabel(\"Total\", size=16)\n",
    "plt.bar_label(splot.containers[0],size=12)"
   ]
  }
 ],
 "metadata": {
  "kernelspec": {
   "display_name": "Python 3",
   "language": "python",
   "name": "python3"
  },
  "language_info": {
   "codemirror_mode": {
    "name": "ipython",
    "version": 3
   },
   "file_extension": ".py",
   "mimetype": "text/x-python",
   "name": "python",
   "nbconvert_exporter": "python",
   "pygments_lexer": "ipython3",
   "version": "3.8.8"
  }
 },
 "nbformat": 4,
 "nbformat_minor": 5
}
